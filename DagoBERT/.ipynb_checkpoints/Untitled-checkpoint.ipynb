{
 "cells": [
  {
   "cell_type": "code",
   "execution_count": 1,
   "id": "cffd22bb",
   "metadata": {},
   "outputs": [],
   "source": [
    "## DagoBERT implementation\n",
    "\n",
    "## Referred paper: DagoBERT\n",
    "\n",
    "## Analyzed phenomenon\n",
    "#: Can BERT generate correct derivatives such as unwearable?\n",
    "#: Can BERT generate correct derivatives such as 34th? even the input data are scarce? \n",
    "# Does BERT have generalizing ability? or they are mere reproductive machine?\n",
    "\n"
   ]
  },
  {
   "cell_type": "code",
   "execution_count": 2,
   "id": "5cc5f2d4",
   "metadata": {},
   "outputs": [],
   "source": [
    "## Dataset\n",
    "# CNN-DailyMail News Text Summarization(528M)\n",
    "# Reddit(from DagoBERT dataset)\n",
    "\n"
   ]
  },
  {
   "cell_type": "code",
   "execution_count": 3,
   "id": "d51dbfc7",
   "metadata": {},
   "outputs": [],
   "source": [
    "## Methodology\n",
    "\n",
    "# high-productive suffixes and prefixes\n",
    "# low-productive suffixees and prefixes\n",
    "\n",
    "# CNN(controlled words) dataset\n",
    "# Reddit(less controlled) dataset\n",
    "\n",
    "# Logics: if Model knows the derivational rules of each morphemes, they should perform well r\n",
    "\n",
    "# preporcessing: \n",
    "1) load prefix_list \n",
    "2) load suffix list\n",
    "3) corpus preprocessing: lower(), strip(), remove punctuation, remove hyphen, remove ilnks, remove other special cases\n",
    "    \n",
    "    "
   ]
  },
  {
   "cell_type": "code",
   "execution_count": 4,
   "id": "c6e1f38d",
   "metadata": {},
   "outputs": [],
   "source": [
    "\n",
    "## Result\n",
    "\n"
   ]
  },
  {
   "cell_type": "code",
   "execution_count": null,
   "id": "50e898ff",
   "metadata": {},
   "outputs": [],
   "source": []
  },
  {
   "cell_type": "code",
   "execution_count": 5,
   "id": "e4c477f3",
   "metadata": {},
   "outputs": [],
   "source": [
    "## Analysis and discussion\n"
   ]
  },
  {
   "cell_type": "code",
   "execution_count": null,
   "id": "bab058e7",
   "metadata": {},
   "outputs": [],
   "source": []
  }
 ],
 "metadata": {
  "kernelspec": {
   "display_name": "base",
   "language": "python",
   "name": "base"
  },
  "language_info": {
   "codemirror_mode": {
    "name": "ipython",
    "version": 3
   },
   "file_extension": ".py",
   "mimetype": "text/x-python",
   "name": "python",
   "nbconvert_exporter": "python",
   "pygments_lexer": "ipython3",
   "version": "3.9.18"
  }
 },
 "nbformat": 4,
 "nbformat_minor": 5
}
