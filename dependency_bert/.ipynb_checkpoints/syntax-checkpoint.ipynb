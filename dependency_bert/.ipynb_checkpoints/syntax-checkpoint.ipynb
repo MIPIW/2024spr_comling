{
 "cells": [
  {
   "cell_type": "code",
   "execution_count": 11,
   "id": "5f6e652f",
   "metadata": {},
   "outputs": [
    {
     "name": "stderr",
     "output_type": "stream",
     "text": [
      "loading configuration file config.json from cache at /home/hyohyeongjang/.cache/huggingface/hub/models--compnet-renard--bert-base-cased-literary-coref/snapshots/5d70bdeda174f8e3dde073b2d5c0f528611ca135/config.json\n",
      "Model config BertForCoreferenceResolutionConfig {\n",
      "  \"_name_or_path\": \"bert-base-cased\",\n",
      "  \"antecedents_nb\": 350,\n",
      "  \"architectures\": [\n",
      "    \"BertForCoreferenceResolution\"\n",
      "  ],\n",
      "  \"attention_probs_dropout_prob\": 0.3,\n",
      "  \"classifier_dropout\": null,\n",
      "  \"gradient_checkpointing\": false,\n",
      "  \"hidden_act\": \"gelu\",\n",
      "  \"hidden_dropout_prob\": 0.3,\n",
      "  \"hidden_size\": 768,\n",
      "  \"initializer_range\": 0.02,\n",
      "  \"intermediate_size\": 3072,\n",
      "  \"layer_norm_eps\": 1e-12,\n",
      "  \"max_position_embeddings\": 512,\n",
      "  \"max_span_size\": 7,\n",
      "  \"mention_loss_coeff\": 0.1,\n",
      "  \"mention_scorer_dropout\": 0.1,\n",
      "  \"mention_scorer_hidden_size\": 3000,\n",
      "  \"mentions_per_token\": 0.4,\n",
      "  \"mentions_per_tokens\": 0.4,\n",
      "  \"metadatas_features_size\": 20,\n",
      "  \"model_type\": \"bert\",\n",
      "  \"num_attention_heads\": 12,\n",
      "  \"num_hidden_layers\": 12,\n",
      "  \"pad_token_id\": 0,\n",
      "  \"position_embedding_type\": \"absolute\",\n",
      "  \"segment_size\": 128,\n",
      "  \"torch_dtype\": \"float32\",\n",
      "  \"transformers_version\": \"4.40.2\",\n",
      "  \"type_vocab_size\": 2,\n",
      "  \"use_cache\": true,\n",
      "  \"vocab_size\": 28996\n",
      "}\n",
      "\n",
      "loading weights file pytorch_model.bin from cache at /home/hyohyeongjang/.cache/huggingface/hub/models--compnet-renard--bert-base-cased-literary-coref/snapshots/5d70bdeda174f8e3dde073b2d5c0f528611ca135/pytorch_model.bin\n",
      "All model checkpoint weights were used when initializing BertForCoreferenceResolution.\n",
      "\n",
      "All the weights of BertForCoreferenceResolution were initialized from the model checkpoint at compnet-renard/bert-base-cased-literary-coref.\n",
      "If your task is similar to the task the model of the checkpoint was trained on, you can already use BertForCoreferenceResolution for predictions without further training.\n",
      "loading file vocab.txt from cache at /home/hyohyeongjang/.cache/huggingface/hub/models--bert-base-cased/snapshots/cd5ef92a9fb2f889e972770a36d4ed042daf221e/vocab.txt\n",
      "loading file tokenizer.json from cache at /home/hyohyeongjang/.cache/huggingface/hub/models--bert-base-cased/snapshots/cd5ef92a9fb2f889e972770a36d4ed042daf221e/tokenizer.json\n",
      "loading file added_tokens.json from cache at None\n",
      "loading file special_tokens_map.json from cache at None\n",
      "loading file tokenizer_config.json from cache at /home/hyohyeongjang/.cache/huggingface/hub/models--bert-base-cased/snapshots/cd5ef92a9fb2f889e972770a36d4ed042daf221e/tokenizer_config.json\n",
      "loading configuration file config.json from cache at /home/hyohyeongjang/.cache/huggingface/hub/models--bert-base-cased/snapshots/cd5ef92a9fb2f889e972770a36d4ed042daf221e/config.json\n",
      "Model config BertConfig {\n",
      "  \"_name_or_path\": \"bert-base-cased\",\n",
      "  \"architectures\": [\n",
      "    \"BertForMaskedLM\"\n",
      "  ],\n",
      "  \"attention_probs_dropout_prob\": 0.1,\n",
      "  \"classifier_dropout\": null,\n",
      "  \"gradient_checkpointing\": false,\n",
      "  \"hidden_act\": \"gelu\",\n",
      "  \"hidden_dropout_prob\": 0.1,\n",
      "  \"hidden_size\": 768,\n",
      "  \"initializer_range\": 0.02,\n",
      "  \"intermediate_size\": 3072,\n",
      "  \"layer_norm_eps\": 1e-12,\n",
      "  \"max_position_embeddings\": 512,\n",
      "  \"model_type\": \"bert\",\n",
      "  \"num_attention_heads\": 12,\n",
      "  \"num_hidden_layers\": 12,\n",
      "  \"pad_token_id\": 0,\n",
      "  \"position_embedding_type\": \"absolute\",\n",
      "  \"transformers_version\": \"4.40.2\",\n",
      "  \"type_vocab_size\": 2,\n",
      "  \"use_cache\": true,\n",
      "  \"vocab_size\": 28996\n",
      "}\n",
      "\n"
     ]
    }
   ],
   "source": [
    "# coreference model import and inference\n",
    "\n",
    "\n",
    "from tibert import BertForCoreferenceResolution, predict_coref\n",
    "from tibert.utils import pprint_coreference_document\n",
    "from transformers import BertTokenizerFast\n",
    "\n",
    "model_checkpoint = \"compnet-renard/bert-base-cased-literary-coref\"\n",
    "model = BertForCoreferenceResolution.from_pretrained(model_checkpoint)\n",
    "\n",
    "tokenizer_checkpoint = \"bert-base-cased\"\n",
    "tokenizer = BertTokenizerFast.from_pretrained(tokenizer_checkpoint)\n",
    "\n",
    "\n"
   ]
  },
  {
   "cell_type": "code",
   "execution_count": 16,
   "id": "9e931fc8",
   "metadata": {},
   "outputs": [],
   "source": []
  },
  {
   "cell_type": "code",
   "execution_count": 54,
   "id": "cbec9d7b",
   "metadata": {},
   "outputs": [],
   "source": [
    "reference_type = ['coref', 'VBA', 'DR']\n",
    "\n",
    "embed_type = [\"PP_embedded\", \"pp_dp_embedded\", \"cp_embedded\", \"cp_dp_embedded\"]\n",
    "\n",
    "tree_type = [\"OFO\", \"OFS\", \"ORO\", \"ORS\"]\n",
    "\n",
    "from pathlib import Path\n",
    "\n"
   ]
  },
  {
   "cell_type": "code",
   "execution_count": 49,
   "id": "f856aa67",
   "metadata": {},
   "outputs": [
    {
     "name": "stderr",
     "output_type": "stream",
     "text": [
      "100%|█████████████████████████████████████████████████████████████████████████████████████| 1/1 [00:00<00:00, 24.71it/s]\n"
     ]
    }
   ],
   "source": [
    "coref_out = predict_coref(\n",
    "    [\"To Patel, he composes melodies.\",\n",
    "     \"exercises which Spencer thinks improve their performance, he practices.\"], \n",
    "    model = model, \n",
    "    tokenizer = tokenizer,\n",
    "    batch_size = 2\n",
    ")\n"
   ]
  },
  {
   "cell_type": "code",
   "execution_count": null,
   "id": "c3562eee",
   "metadata": {},
   "outputs": [],
   "source": []
  },
  {
   "cell_type": "code",
   "execution_count": 50,
   "id": "f0de9f29",
   "metadata": {},
   "outputs": [
    {
     "data": {
      "text/html": [
       "<pre style=\"white-space:pre;overflow-x:auto;line-height:normal;font-family:Menlo,'DejaVu Sans Mono',consolas,'Courier New',monospace\">To <span style=\"color: #800000; text-decoration-color: #800000\">(1 Patel )</span> , <span style=\"color: #800000; text-decoration-color: #800000\">(0 he )</span> composes melodies .\n",
       "</pre>\n"
      ],
      "text/plain": [
       "To \u001b[31m(1 Patel )\u001b[0m , \u001b[31m(0 he )\u001b[0m composes melodies .\n"
      ]
     },
     "metadata": {},
     "output_type": "display_data"
    }
   ],
   "source": [
    "pprint_coreference_document(coref_out[0])"
   ]
  },
  {
   "cell_type": "code",
   "execution_count": null,
   "id": "23eb408b",
   "metadata": {},
   "outputs": [],
   "source": []
  },
  {
   "cell_type": "code",
   "execution_count": null,
   "id": "cd34d267",
   "metadata": {},
   "outputs": [],
   "source": [
    "# evaluation with coref, DR, BVA data"
   ]
  }
 ],
 "metadata": {
  "kernelspec": {
   "display_name": "base",
   "language": "python",
   "name": "base"
  },
  "language_info": {
   "codemirror_mode": {
    "name": "ipython",
    "version": 3
   },
   "file_extension": ".py",
   "mimetype": "text/x-python",
   "name": "python",
   "nbconvert_exporter": "python",
   "pygments_lexer": "ipython3",
   "version": "3.9.18"
  }
 },
 "nbformat": 4,
 "nbformat_minor": 5
}
