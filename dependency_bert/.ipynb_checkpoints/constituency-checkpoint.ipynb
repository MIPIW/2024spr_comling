{
 "cells": [
  {
   "cell_type": "code",
   "execution_count": 1,
   "id": "78b56d7e",
   "metadata": {},
   "outputs": [
    {
     "name": "stderr",
     "output_type": "stream",
     "text": [
      "[nltk_data] Downloading package treebank to\n",
      "[nltk_data]     /home/hyohyeongjang/nltk_data...\n",
      "[nltk_data]   Unzipping corpora/treebank.zip.\n"
     ]
    }
   ],
   "source": [
    "#penn treebank\n",
    "import nltk\n",
    "import re\n",
    "out = nltk.download('treebank')\n",
    "\n",
    "from nltk.corpus import treebank"
   ]
  },
  {
   "cell_type": "code",
   "execution_count": 22,
   "id": "07500a0f",
   "metadata": {},
   "outputs": [],
   "source": [
    "class Node():\n",
    "    def __init__(self):\n",
    "        self.parent = None\n",
    "        self.value = None\n",
    "        self.daughters = []\n",
    "        self.command = None\n",
    "    \n",
    "    def setParent(self, node):\n",
    "        self.parent = node\n",
    "        \n",
    "    def setValue(self, node):\n",
    "        self.value = node\n",
    "        \n",
    "    def setdaughters(self, node):\n",
    "        self.daughters = node\n",
    "    \n",
    "    \n",
    "class ConstituencyTree():\n",
    "    def __init__(self):\n",
    "        self.nodes = []\n",
    "        self.sentences = []\n",
    "        self.sentences.append(self.head)\n",
    "    \n",
    "    def makeTree(self, string_list):\n",
    "        curnode = Node()\n",
    "        self.sentences.append(curnode)\n",
    "        \n",
    "        for token in string_list:\n",
    "            if token == \"(\":\n",
    "                \n",
    "                n = Node()\n",
    "                n.parent = curnode\n",
    "                curnode.daughters.append(n)\n",
    "                curnode = n\n",
    "                \n",
    "            if token == \")\":\n",
    "                curnode = curnode.parent\n",
    "            \n",
    "            if token != \")\" and token != \"(\":\n",
    "                curnode.value = token\n",
    "                self.nodes.append(curnode)\n",
    "        \n",
    "        \n",
    "            \n",
    "    def decode(self, node):\n",
    "        print(node.value)\n",
    "        \n",
    "        if len(node.daughters) == 0:\n",
    "            return \n",
    "        \n",
    "        for daughtersNode in node.daughters:\n",
    "            \n",
    "            self.decode(daughtersNode)\n",
    "            \n",
    "    \n",
    "    def getSubordinateNodes(self, node):\n",
    "        lst = []\n",
    "        \n",
    "        if len(node.daughters) == 0:\n",
    "            return [node]\n",
    "        else:\n",
    "            for i in node.daughters:\n",
    "                lst.append(self.getSubordinateNodes(i))\n",
    "        \n",
    "        if node in self.nodes:\n",
    "            return [node]\n",
    "        \n",
    "        return lst\n",
    "    \n",
    "\n",
    "        \n",
    "    def getparser(self):\n",
    "        for node in self.nodes:\n",
    "            termnodes = [self.getSubordinateNodes(i) for i in node.parent.daughters]\n",
    "            node.command = termnodes\n",
    "            \n",
    "            \n",
    "def flattenList(nested_list):\n",
    "    flat_list = []\n",
    "    for element in nested_list:\n",
    "        if isinstance(element, list):\n",
    "            flat_list.extend(flattenList(element))\n",
    "        else:\n",
    "            flat_list.append(element)\n",
    "    return flat_list\n"
   ]
  },
  {
   "cell_type": "code",
   "execution_count": 50,
   "id": "ee3cb819",
   "metadata": {},
   "outputs": [],
   "source": [
    "class ConstituencyParser():\n",
    "    def __init__(self):\n",
    "        pass\n",
    "    \n",
    "    @staticmethod\n",
    "    def preprocessing(raw_string = treebank.raw()):\n",
    "        lst = []\n",
    "\n",
    "        x = re.sub(\"\\n\", \"\", raw_string)\n",
    "        x = re.sub(r'\\([a-zA-Z]+-{0,1}[a-zA-z]{0,}-{0,1}\\d{0,}\\$? ', \"(\", x)\n",
    "        x = re.sub(r\"\\([-.,:\\\"\\`\\\"\\'?@!`]\", \"(\", x)\n",
    "        x = re.sub(\" \", \"\", x)\n",
    "        x = re.sub(\"\\(\\*[a-zA-Z]{0,1}\\*{0,1}[a-zA-Z]{0,1}-[0-9]+\\)\", \"\", x)\n",
    "        x = re.sub(\"NONE[^\\)]*\\)\", \")\", x)\n",
    "\n",
    "        preprocessed = x\n",
    "        \n",
    "        lst = []\n",
    "        open_count = 0\n",
    "        string = \"\"\n",
    "        \n",
    "        for i in preprocessed:\n",
    "            string += i\n",
    "            if i == \"(\":\n",
    "                open_count += 1\n",
    "            if i == \")\":\n",
    "                open_count -= 1\n",
    "\n",
    "            if open_count == 0:\n",
    "                lst.append(string)\n",
    "                string = \"\"\n",
    "                \n",
    "        return lst\n",
    "        \n",
    "    @staticmethod\n",
    "    def tokenize(preprocessed):\n",
    "       \n",
    "        tokenized = [re.sub(\"[\\(\\)]+\", \" \", i).split(\" \") for i in preprocessed]\n",
    "        tokenized = [i[1:] for i in tokenized]\n",
    "        return tokenized\n",
    "    \n",
    "    def parse(preprocessed, tree, idx = None):\n",
    "        if idx != None:\n",
    "            temp_list = [re.sub(r\"([\\(\\)])\", r\" \\1 \", i) for i in preprocessed[:idx]]\n",
    "        else:\n",
    "            temp_list = [re.sub(r\"([\\(\\)])\", r\" \\1 \", i) for i in preprocessed[0]]\n",
    "        temp_list = [re.sub(r\"\\s+\", \" \", i) for i in temp_list]\n",
    "        temp_list = [i.strip() for i in temp_list]\n",
    "        temp_list = [i.split(\" \") for i in temp_list]\n",
    "\n",
    "        tree.makeTree(temp_list[1])\n",
    "        tree.getparser()\n",
    "\n",
    "        for node in tree.nodes:\n",
    "            print(node.value, [i.value for i in flattenList(node.command)])\n",
    "        return tree"
   ]
  },
  {
   "cell_type": "code",
   "execution_count": 51,
   "id": "37848a7c",
   "metadata": {},
   "outputs": [
    {
     "name": "stdout",
     "output_type": "stream",
     "text": [
      "Mr. ['Mr.', 'Vinken']\n",
      "Vinken ['Mr.', 'Vinken']\n",
      "is ['is', 'chairman', 'of', 'Elsevier', 'N.V.', ',', 'the', 'Dutch', 'publishing', 'group']\n",
      "chairman ['chairman']\n",
      "of ['of', 'Elsevier', 'N.V.', ',', 'the', 'Dutch', 'publishing', 'group']\n",
      "Elsevier ['Elsevier', 'N.V.']\n",
      "N.V. ['Elsevier', 'N.V.']\n",
      ", ['Elsevier', 'N.V.', ',', 'the', 'Dutch', 'publishing', 'group']\n",
      "the ['the', 'Dutch', 'publishing', 'group']\n",
      "Dutch ['the', 'Dutch', 'publishing', 'group']\n",
      "publishing ['the', 'Dutch', 'publishing', 'group']\n",
      "group ['the', 'Dutch', 'publishing', 'group']\n",
      ". ['Mr.', 'Vinken', 'is', 'chairman', 'of', 'Elsevier', 'N.V.', ',', 'the', 'Dutch', 'publishing', 'group', '.']\n"
     ]
    }
   ],
   "source": [
    "preprocessed = ConstituencyParser.preprocessing(treebank.raw())\n",
    "tokenized = ConstituencyParser.tokenize(preprocessed[:10000])\n",
    "tree = ConstituencyTree()\n",
    "parsed = ConstituencyParser.parse(preprocessed, tree, 3)\n"
   ]
  },
  {
   "cell_type": "code",
   "execution_count": 23,
   "id": "64a01b26",
   "metadata": {},
   "outputs": [
    {
     "data": {
      "text/plain": [
       "'Vinken'"
      ]
     },
     "execution_count": 23,
     "metadata": {},
     "output_type": "execute_result"
    }
   ],
   "source": [
    "tree.head.daughter[0].daughter[0].daughter[0].daughter[0].value"
   ]
  },
  {
   "cell_type": "code",
   "execution_count": 98,
   "id": "2ab951b5",
   "metadata": {},
   "outputs": [
    {
     "data": {
      "text/plain": [
       "'(((((Pierre)(Vinken))(,)(((61)(years))(old))(,))((will)((join)((the)(board))((as)((a)(nonexecutive)(director)))((Nov.)(29))))(.)))'"
      ]
     },
     "execution_count": 98,
     "metadata": {},
     "output_type": "execute_result"
    }
   ],
   "source": [
    "lst[0]"
   ]
  },
  {
   "cell_type": "code",
   "execution_count": 12,
   "id": "e284adce",
   "metadata": {},
   "outputs": [
    {
     "data": {
      "text/plain": [
       "['(',\n",
       " '(',\n",
       " '(',\n",
       " '(',\n",
       " '( Pierre )',\n",
       " '( Vinken )',\n",
       " ')',\n",
       " '( , )',\n",
       " '(',\n",
       " '(',\n",
       " '( 61 )',\n",
       " '( years )',\n",
       " ')',\n",
       " '( old )',\n",
       " ')',\n",
       " '( , )',\n",
       " ')',\n",
       " '(',\n",
       " '( will )',\n",
       " '(',\n",
       " '( join )',\n",
       " '(',\n",
       " '( the )',\n",
       " '( board )',\n",
       " ')',\n",
       " '(',\n",
       " '( as )',\n",
       " '(',\n",
       " '( a )',\n",
       " '( nonexecutive )',\n",
       " '( director )',\n",
       " ')',\n",
       " ')',\n",
       " '(',\n",
       " '( Nov. )',\n",
       " '( 29 )',\n",
       " ')',\n",
       " ')',\n",
       " ')',\n",
       " '( . )',\n",
       " ')',\n",
       " ') ']"
      ]
     },
     "execution_count": 12,
     "metadata": {},
     "output_type": "execute_result"
    }
   ],
   "source": [
    "lst1[0]"
   ]
  },
  {
   "cell_type": "code",
   "execution_count": 45,
   "id": "ee3f498d",
   "metadata": {},
   "outputs": [
    {
     "data": {
      "text/plain": [
       "'((((Pierre'"
      ]
     },
     "execution_count": 45,
     "metadata": {},
     "output_type": "execute_result"
    }
   ],
   "source": [
    "tree.head.daughter[0].value"
   ]
  },
  {
   "cell_type": "code",
   "execution_count": 52,
   "id": "b6665008",
   "metadata": {},
   "outputs": [
    {
     "data": {
      "text/plain": [
       "19"
      ]
     },
     "execution_count": 52,
     "metadata": {},
     "output_type": "execute_result"
    }
   ],
   "source": []
  },
  {
   "cell_type": "code",
   "execution_count": 9,
   "id": "4106d4b7",
   "metadata": {},
   "outputs": [
    {
     "ename": "KeyboardInterrupt",
     "evalue": "",
     "output_type": "error",
     "traceback": [
      "\u001b[0;31m---------------------------------------------------------------------------\u001b[0m",
      "\u001b[0;31mKeyboardInterrupt\u001b[0m                         Traceback (most recent call last)",
      "Cell \u001b[0;32mIn[9], line 3\u001b[0m\n\u001b[1;32m      1\u001b[0m lst1 \u001b[38;5;241m=\u001b[39m []\n\u001b[1;32m      2\u001b[0m \u001b[38;5;28;01mfor\u001b[39;00m x \u001b[38;5;129;01min\u001b[39;00m lst:\n\u001b[0;32m----> 3\u001b[0m     out \u001b[38;5;241m=\u001b[39m \u001b[43mre\u001b[49m\u001b[38;5;241;43m.\u001b[39;49m\u001b[43msub\u001b[49m\u001b[43m(\u001b[49m\u001b[38;5;124;43mr\u001b[39;49m\u001b[38;5;124;43m'\u001b[39;49m\u001b[38;5;124;43m[a-zA-Z]+-\u001b[39;49m\u001b[38;5;124;43m{\u001b[39;49m\u001b[38;5;124;43m0,1}[a-zA-z]\u001b[39;49m\u001b[38;5;124;43m{\u001b[39;49m\u001b[38;5;124;43m0,}-\u001b[39;49m\u001b[38;5;124;43m{\u001b[39;49m\u001b[38;5;124;43m0,1}\u001b[39;49m\u001b[38;5;124;43m\\\u001b[39;49m\u001b[38;5;124;43md\u001b[39;49m\u001b[38;5;124;43m{\u001b[39;49m\u001b[38;5;124;43m0,}\u001b[39;49m\u001b[38;5;124;43m\\\u001b[39;49m\u001b[38;5;124;43m$? \u001b[39;49m\u001b[38;5;124;43m'\u001b[39;49m\u001b[43m,\u001b[49m\u001b[43m \u001b[49m\u001b[38;5;124;43m\"\u001b[39;49m\u001b[38;5;124;43m(\u001b[39;49m\u001b[38;5;124;43m\"\u001b[39;49m\u001b[43m,\u001b[49m\u001b[43m \u001b[49m\u001b[43mx\u001b[49m\u001b[43m)\u001b[49m\n\u001b[1;32m      4\u001b[0m     out \u001b[38;5;241m=\u001b[39m re\u001b[38;5;241m.\u001b[39msub(\u001b[38;5;124mr\u001b[39m\u001b[38;5;124m\"\u001b[39m\u001b[38;5;124m\\\u001b[39m\u001b[38;5;124m([-.,:\u001b[39m\u001b[38;5;130;01m\\\"\u001b[39;00m\u001b[38;5;124m\\\u001b[39m\u001b[38;5;124m`\u001b[39m\u001b[38;5;130;01m\\\"\u001b[39;00m\u001b[38;5;124m\\\u001b[39m\u001b[38;5;124m'\u001b[39m\u001b[38;5;124m?@!`]\u001b[39m\u001b[38;5;124m\"\u001b[39m, \u001b[38;5;124m\"\u001b[39m\u001b[38;5;124m(\u001b[39m\u001b[38;5;124m\"\u001b[39m, out)\n\u001b[1;32m      6\u001b[0m     out \u001b[38;5;241m=\u001b[39m re\u001b[38;5;241m.\u001b[39msub(\u001b[38;5;124m\"\u001b[39m\u001b[38;5;124m\\\u001b[39m\u001b[38;5;124m(\u001b[39m\u001b[38;5;124m\\\u001b[39m\u001b[38;5;124m*[a-zA-Z]\u001b[39m\u001b[38;5;124m{\u001b[39m\u001b[38;5;124m0,1}\u001b[39m\u001b[38;5;124m\\\u001b[39m\u001b[38;5;124m*\u001b[39m\u001b[38;5;124m{\u001b[39m\u001b[38;5;124m0,1}[a-zA-Z]\u001b[39m\u001b[38;5;124m{\u001b[39m\u001b[38;5;124m0,1}-[0-9]+\u001b[39m\u001b[38;5;124m\\\u001b[39m\u001b[38;5;124m)\u001b[39m\u001b[38;5;124m\"\u001b[39m, \u001b[38;5;124m\"\u001b[39m\u001b[38;5;124m\"\u001b[39m, out)\n",
      "File \u001b[0;32m~/.conda/envs/hyohyeongjang_base/lib/python3.9/re.py:210\u001b[0m, in \u001b[0;36msub\u001b[0;34m(pattern, repl, string, count, flags)\u001b[0m\n\u001b[1;32m    203\u001b[0m \u001b[38;5;28;01mdef\u001b[39;00m \u001b[38;5;21msub\u001b[39m(pattern, repl, string, count\u001b[38;5;241m=\u001b[39m\u001b[38;5;241m0\u001b[39m, flags\u001b[38;5;241m=\u001b[39m\u001b[38;5;241m0\u001b[39m):\n\u001b[1;32m    204\u001b[0m \u001b[38;5;250m    \u001b[39m\u001b[38;5;124;03m\"\"\"Return the string obtained by replacing the leftmost\u001b[39;00m\n\u001b[1;32m    205\u001b[0m \u001b[38;5;124;03m    non-overlapping occurrences of the pattern in string by the\u001b[39;00m\n\u001b[1;32m    206\u001b[0m \u001b[38;5;124;03m    replacement repl.  repl can be either a string or a callable;\u001b[39;00m\n\u001b[1;32m    207\u001b[0m \u001b[38;5;124;03m    if a string, backslash escapes in it are processed.  If it is\u001b[39;00m\n\u001b[1;32m    208\u001b[0m \u001b[38;5;124;03m    a callable, it's passed the Match object and must return\u001b[39;00m\n\u001b[1;32m    209\u001b[0m \u001b[38;5;124;03m    a replacement string to be used.\"\"\"\u001b[39;00m\n\u001b[0;32m--> 210\u001b[0m     \u001b[38;5;28;01mreturn\u001b[39;00m \u001b[43m_compile\u001b[49m\u001b[43m(\u001b[49m\u001b[43mpattern\u001b[49m\u001b[43m,\u001b[49m\u001b[43m \u001b[49m\u001b[43mflags\u001b[49m\u001b[43m)\u001b[49m\u001b[38;5;241;43m.\u001b[39;49m\u001b[43msub\u001b[49m\u001b[43m(\u001b[49m\u001b[43mrepl\u001b[49m\u001b[43m,\u001b[49m\u001b[43m \u001b[49m\u001b[43mstring\u001b[49m\u001b[43m,\u001b[49m\u001b[43m \u001b[49m\u001b[43mcount\u001b[49m\u001b[43m)\u001b[49m\n",
      "\u001b[0;31mKeyboardInterrupt\u001b[0m: "
     ]
    }
   ],
   "source": [
    "lst1 = []\n",
    "for x in lst:\n",
    "\n",
    "#     out = re.sub(\"[\\-.,:`\\\"\\'?@!`\", \"\", out)\n",
    "    \n",
    "    lst1.append(out)\n",
    "    "
   ]
  },
  {
   "cell_type": "code",
   "execution_count": null,
   "id": "12301ecd",
   "metadata": {},
   "outputs": [],
   "source": [
    "lst1"
   ]
  },
  {
   "cell_type": "code",
   "execution_count": 107,
   "id": "3b8a26fe",
   "metadata": {},
   "outputs": [
    {
     "data": {
      "text/plain": [
       "''"
      ]
     },
     "execution_count": 107,
     "metadata": {},
     "output_type": "execute_result"
    }
   ],
   "source": [
    "re.sub(\"\\(\\*[a-zA-Z]{0,1}\\*{0,1}[a-zA-Z]{0,1}-[0-9]+\\)\", \"\", \"(*-1)\")"
   ]
  },
  {
   "cell_type": "code",
   "execution_count": null,
   "id": "52d96478",
   "metadata": {},
   "outputs": [],
   "source": []
  }
 ],
 "metadata": {
  "kernelspec": {
   "display_name": "base",
   "language": "python",
   "name": "base"
  },
  "language_info": {
   "codemirror_mode": {
    "name": "ipython",
    "version": 3
   },
   "file_extension": ".py",
   "mimetype": "text/x-python",
   "name": "python",
   "nbconvert_exporter": "python",
   "pygments_lexer": "ipython3",
   "version": "3.9.18"
  }
 },
 "nbformat": 4,
 "nbformat_minor": 5
}
