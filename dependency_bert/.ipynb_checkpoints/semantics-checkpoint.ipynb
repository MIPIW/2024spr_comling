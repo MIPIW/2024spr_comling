{
 "cells": [
  {
   "cell_type": "code",
   "execution_count": 1,
   "id": "b9495ca7",
   "metadata": {},
   "outputs": [],
   "source": [
    "# change attention mask setting\n",
    "from torch.utils.data import Dataset\n",
    "class Manual_atteention_dataset(Dataset):\n",
    "    def __init__(self, fileurl):\n",
    "        files = \n",
    "    \n",
    "    "
   ]
  },
  {
   "cell_type": "code",
   "execution_count": 3,
   "id": "957d9928",
   "metadata": {},
   "outputs": [],
   "source": [
    "# lookup attention score of each tokens\n",
    "## with base model, with custom model, with random model\n",
    "\n"
   ]
  },
  {
   "cell_type": "code",
   "execution_count": null,
   "id": "785c1019",
   "metadata": {},
   "outputs": [],
   "source": [
    "# statistical analysis of attention score"
   ]
  },
  {
   "cell_type": "code",
   "execution_count": null,
   "id": "e42771d8",
   "metadata": {},
   "outputs": [],
   "source": [
    "def main():\n",
    "    pass"
   ]
  },
  {
   "cell_type": "code",
   "execution_count": null,
   "id": "ed9dac3f",
   "metadata": {},
   "outputs": [],
   "source": [
    "if __name__ == \"__main__\":\n",
    "    out = main()"
   ]
  }
 ],
 "metadata": {
  "kernelspec": {
   "display_name": "Python 3 (ipykernel)",
   "language": "python",
   "name": "python3"
  },
  "language_info": {
   "codemirror_mode": {
    "name": "ipython",
    "version": 3
   },
   "file_extension": ".py",
   "mimetype": "text/x-python",
   "name": "python",
   "nbconvert_exporter": "python",
   "pygments_lexer": "ipython3",
   "version": "3.9.13"
  }
 },
 "nbformat": 4,
 "nbformat_minor": 5
}
